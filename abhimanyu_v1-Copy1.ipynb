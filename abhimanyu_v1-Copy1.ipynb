{
 "cells": [
  {
   "cell_type": "code",
   "execution_count": 2,
   "id": "0bcd23dc-13c6-4481-9fc3-21d984b4987a",
   "metadata": {
    "tags": []
   },
   "outputs": [],
   "source": [
    "# !pip install crewai -r ./requirements.txt"
   ]
  },
  {
   "cell_type": "code",
   "execution_count": 3,
   "id": "d0a258fb-f0b9-4811-a0e2-03f02223a91f",
   "metadata": {
    "tags": []
   },
   "outputs": [
    {
     "name": "stdout",
     "output_type": "stream",
     "text": [
      "abhimanyu_v1-Copy1.ipynb  README.md\t    src        Untitled.ipynb\n",
      "dev_llm\t\t\t  requirements.txt  tutorials\n"
     ]
    }
   ],
   "source": [
    "!dir"
   ]
  },
  {
   "cell_type": "code",
   "execution_count": 3,
   "id": "ee86de9e-8fe6-4535-a10b-d7612be30fcd",
   "metadata": {
    "tags": []
   },
   "outputs": [],
   "source": [
    "import dotenv\n",
    "assert dotenv.load_dotenv()"
   ]
  },
  {
   "cell_type": "code",
   "execution_count": 4,
   "id": "405b35f9-feb9-4fb4-8b08-bfd847bee459",
   "metadata": {
    "tags": []
   },
   "outputs": [],
   "source": [
    "# Import required libraries\n",
    "import os\n",
    "from langchain_aws import ChatBedrock\n",
    "\n",
    "# Set up the model ID for Claude\n",
    "# MODEL_ID = \"anthropic.claude-3-haiku-20240307-v1:0\"\n",
    "# MODEL_ID = \"anthropic.claude-3-sonnet-20240229-v1:0\"\n",
    "MODEL_ID = \"anthropic.claude-3-5-sonnet-20240620-v1:0\"\n",
    "\n",
    "# Initialize the ChatBedrock instance\n",
    "llm = ChatBedrock(model_id=MODEL_ID, model_kwargs={'temperature': 0.55})\n",
    "# low_llm = ChatBedrock(model_id=MODEL_ID, model_kwargs={'temperature': 0.1})\n",
    "# high_llm = ChatBedrock(model_id=MODEL_ID, model_kwargs={'temperature': 0.5})"
   ]
  },
  {
   "cell_type": "code",
   "execution_count": 3,
   "id": "6105a64d-c849-4f52-8e6f-165e265b9603",
   "metadata": {
    "tags": []
   },
   "outputs": [],
   "source": [
    "questions = [\n",
    "    \"Visualize the number of students who participated in the PIRLS 2021 study per country\"\n",
    "]"
   ]
  },
  {
   "cell_type": "code",
   "execution_count": 5,
   "id": "c9b1ba05-3c03-4021-97f4-6ceff24cef53",
   "metadata": {
    "tags": []
   },
   "outputs": [
    {
     "ename": "NameError",
     "evalue": "name 'message' is not defined",
     "output_type": "error",
     "traceback": [
      "\u001b[0;31m---------------------------------------------------------------------------\u001b[0m",
      "\u001b[0;31mNameError\u001b[0m                                 Traceback (most recent call last)",
      "Cell \u001b[0;32mIn[5], line 1\u001b[0m\n\u001b[0;32m----> 1\u001b[0m response \u001b[38;5;241m=\u001b[39m llm\u001b[38;5;241m.\u001b[39minvoke(\u001b[43mmessage\u001b[49m)\n\u001b[1;32m      2\u001b[0m \u001b[38;5;28mprint\u001b[39m(response\u001b[38;5;241m.\u001b[39mcontent)\n",
      "\u001b[0;31mNameError\u001b[0m: name 'message' is not defined"
     ]
    }
   ],
   "source": [
    "response = llm.invoke(message)\n",
    "print(response.content)"
   ]
  },
  {
   "cell_type": "code",
   "execution_count": 5,
   "id": "65832a6a-a2cb-46dc-9ab9-c370fbe71fc0",
   "metadata": {
    "tags": []
   },
   "outputs": [
    {
     "name": "stdout",
     "output_type": "stream",
     "text": [
      "sagemaker.config INFO - Not applying SDK defaults from location: /etc/xdg/sagemaker/config.yaml\n",
      "sagemaker.config INFO - Not applying SDK defaults from location: /home/ec2-user/.config/sagemaker/config.yaml\n"
     ]
    },
    {
     "name": "stderr",
     "output_type": "stream",
     "text": [
      "2024-10-22 06:47:52,702 - 140217121097472 - font_manager.py-font_manager:1035 - WARNING: Matplotlib is building the font cache; this may take a moment.\n"
     ]
    }
   ],
   "source": [
    "from src.static.submission import Submission\n",
    "from src.static.util import PROJECT_ROOT\n",
    "import src.submission.tools.database as db_tools\n",
    "import src.submission.tools.chart as chart"
   ]
  },
  {
   "cell_type": "code",
   "execution_count": 6,
   "id": "91898d79-b74e-4636-9258-01431e193302",
   "metadata": {
    "tags": []
   },
   "outputs": [],
   "source": [
    "from crewai import Agent, Crew, Process, Task\n",
    "from crewai.project import CrewBase, agent, crew, task\n",
    "from langchain_core.tools import tool"
   ]
  },
  {
   "cell_type": "code",
   "execution_count": 7,
   "id": "bfa6277c-0d04-4da7-960e-82769705df63",
   "metadata": {
    "tags": []
   },
   "outputs": [],
   "source": [
    "@CrewBase\n",
    "class AdvancedPIRLSCrew(Submission):\n",
    "    \"\"\"Data Analysis Crew for the GDSC project.\"\"\"\n",
    "    # Load the files from the config directory\n",
    "    agents_config = PROJECT_ROOT / 'submission' / 'config' / 'agents.yaml'\n",
    "    tasks_config = PROJECT_ROOT / 'submission' / 'config' / 'tasks.yaml'\n",
    "\n",
    "    def __init__(self, llm):\n",
    "        self.llm = llm\n",
    "        # self.low_llm = low_llm\n",
    "        # self.high_llm = high_llm\n",
    "\n",
    "    def run(self, prompt: str) -> str:\n",
    "        return self.crew().kickoff(inputs={'user_question': prompt}).raw\n",
    "\n",
    "    @agent\n",
    "    def lead_data_analyst(self) -> Agent:\n",
    "        a = Agent(\n",
    "            config=self.agents_config['lead_data_analyst'],\n",
    "            llm=self.llm,\n",
    "            allow_delegation=True,\n",
    "            verbose=True\n",
    "        )\n",
    "        return a\n",
    "\n",
    "    @agent\n",
    "    def data_engineer(self) -> Agent:\n",
    "        a = Agent(\n",
    "            config=self.agents_config['data_engineer'],\n",
    "            llm=self.llm,\n",
    "            allow_delegation=False,\n",
    "            verbose=True,\n",
    "            tools=[\n",
    "                db_tools.query_database,\n",
    "                db_tools.get_possible_answers_to_question,\n",
    "                db_tools.get_questions_of_given_type\n",
    "            ]\n",
    "        )\n",
    "        return a\n",
    "\n",
    "    @task\n",
    "    def answer_question_task(self) -> Task:\n",
    "        t = Task(\n",
    "            config=self.tasks_config['answer_question_task'],\n",
    "            agent=self.lead_data_analyst(),\n",
    "            tools=[\n",
    "                chart.generate_chart,\n",
    "            ]\n",
    "        )\n",
    "        return t\n",
    "\n",
    "    @crew\n",
    "    def crew(self) -> Crew:\n",
    "        \"\"\"Creates the data analyst crew\"\"\"\n",
    "        return Crew(\n",
    "            agents=self.agents,\n",
    "            tasks=self.tasks,\n",
    "            process=Process.sequential,\n",
    "            verbose=True,\n",
    "            max_iter=5,\n",
    "            cache=True\n",
    "        )"
   ]
  },
  {
   "cell_type": "code",
   "execution_count": 3,
   "id": "d194cc24-9cce-40cf-a09a-110948efa2dc",
   "metadata": {
    "tags": []
   },
   "outputs": [
    {
     "ename": "NameError",
     "evalue": "name 'AdvancedPIRLSCrew' is not defined",
     "output_type": "error",
     "traceback": [
      "\u001b[0;31m---------------------------------------------------------------------------\u001b[0m",
      "\u001b[0;31mNameError\u001b[0m                                 Traceback (most recent call last)",
      "Cell \u001b[0;32mIn[3], line 1\u001b[0m\n\u001b[0;32m----> 1\u001b[0m crew \u001b[38;5;241m=\u001b[39m \u001b[43mAdvancedPIRLSCrew\u001b[49m(llm\u001b[38;5;241m=\u001b[39mllm)\n\u001b[1;32m      3\u001b[0m \u001b[38;5;28mprint\u001b[39m(crew\u001b[38;5;241m.\u001b[39mrun(\u001b[38;5;124m\"\u001b[39m\u001b[38;5;124mHow do teacher\u001b[39m\u001b[38;5;124m'\u001b[39m\u001b[38;5;124ms job satisfaction relate to student learning outcomes, as reflected by their level of reading proficiency?\u001b[39m\u001b[38;5;124m\"\u001b[39m))\n",
      "\u001b[0;31mNameError\u001b[0m: name 'AdvancedPIRLSCrew' is not defined"
     ]
    }
   ],
   "source": [
    "crew = AdvancedPIRLSCrew(llm=llm)\n",
    "\n",
    "print(crew.run(\"How do teacher's job satisfaction relate to student learning outcomes, as reflected by their level of reading proficiency?\"))"
   ]
  },
  {
   "cell_type": "code",
   "execution_count": 46,
   "id": "8a59b39d-1996-4175-9a23-25dd002a9976",
   "metadata": {
    "tags": []
   },
   "outputs": [],
   "source": [
    "# crew = AdvancedPIRLSCrew(llm=llm)\n",
    "\n",
    "# print(crew.run(\"What was Turkey's average score for fourth graders in reading?\"))"
   ]
  },
  {
   "cell_type": "code",
   "execution_count": 47,
   "id": "848bf9d6-957a-4c3d-aeac-ea5e1c719782",
   "metadata": {
    "tags": []
   },
   "outputs": [],
   "source": [
    "# crew = AdvancedPIRLSCrew(llm = llm)\n",
    "\n",
    "# print(crew.run(\"How many students in Slovenia scored at the most advanced level in the PIRLS 2021 study?\"))"
   ]
  },
  {
   "cell_type": "code",
   "execution_count": 50,
   "id": "b4a93ff5-72c1-4fde-8917-2b0e9788afae",
   "metadata": {
    "tags": []
   },
   "outputs": [],
   "source": [
    "# result_json = []\n",
    "# for ques in questions[5:]:\n",
    "#     print(crew.run(ques))\n",
    "    "
   ]
  },
  {
   "cell_type": "code",
   "execution_count": 48,
   "id": "05019a1e-729b-4971-a4a4-f5f436586e95",
   "metadata": {
    "tags": []
   },
   "outputs": [],
   "source": [
    "# crew = AdvancedPIRLSCrew(llm=llm)\n",
    "\n",
    "# print(crew.run(\"How do the achievements of students from low socioeconomic status and more fluent families compare?\"))"
   ]
  },
  {
   "cell_type": "code",
   "execution_count": 1,
   "id": "5107c94b-e94a-41c9-93c6-99c0a16bb559",
   "metadata": {
    "tags": []
   },
   "outputs": [],
   "source": [
    "import requests\n",
    "\n",
    "# Some wrapper code to send requests to our crew\n",
    "def ask_question(question: str, url: str):\n",
    "    data = {'prompt': question}\n",
    "    headers = {'Content-Type': 'application/json'}\n",
    "    response = requests.post(url, json=data, headers=headers)\n",
    "\n",
    "    return response.json()"
   ]
  },
  {
   "cell_type": "code",
   "execution_count": 2,
   "id": "4f7fc7ac-0025-4deb-861f-a2c1f0093254",
   "metadata": {
    "tags": []
   },
   "outputs": [],
   "source": [
    "# note that the port needs to be set to 8000\n",
    "REMOTE_HOST = 'http://52.200.159.60:8000//run'"
   ]
  },
  {
   "cell_type": "code",
   "execution_count": 9,
   "id": "f262f3f1-a039-4d84-b449-e05b3138a28a",
   "metadata": {
    "tags": []
   },
   "outputs": [],
   "source": [
    "questions = [\n",
    "    \"How do the achievements of students from low socioeconomic status and more fluent families compare?\",\n",
    "    \"What is the global trend in fourth grade reading achievement as revealed by the PIRLS 2021 results?\",\n",
    "    \"Which countries performed the best in the PIRLS 2021 study, and what common factors do they share in their educational systems?\",\n",
    "    \"What insights can be drawn from student and teacher questionnaire responses regarding factors influencing reading achievement?\",\n",
    "    \"Pick any country. How have the reading skills of students in this country evolved from previous PIRLS assessments to 2021?\",\n",
    "    \"Visualize the number of students who participated in the PIRLS 2021 study per country.\",\n",
    "    \"Show a plot of the correlation of a countries GDP and its readings skills according to the PIRLS 2021 study\"\n",
    "]"
   ]
  },
  {
   "cell_type": "code",
   "execution_count": 3,
   "id": "d19ce3dd-41d0-4833-a2c3-e48ad8567d50",
   "metadata": {
    "tags": []
   },
   "outputs": [
    {
     "name": "stdout",
     "output_type": "stream",
     "text": [
      "#GDSC7\n",
      "\n",
      "# The Impact of Early Literacy on the Future of Pupils 📚🔍\n",
      "\n",
      "Early literacy plays a crucial role in shaping the educational trajectory and future success of pupils. Based on the analysis of the PIRLS 2021 dataset, we can draw several important conclusions about the relationship between early literacy activities and later reading achievement. \n",
      "\n",
      "## Key Findings 🔑\n",
      "\n",
      "1. **Frequency of Reading Books** 📖\n",
      "   - Students whose parents read books with them \"Often\" before primary school consistently achieved higher average reading scores.\n",
      "   - Example: In Albania, students read to \"Often\" scored 544.2, compared to 514.0 for \"Sometimes.\"\n",
      "\n",
      "2. **Early Writing Practice** ✍️\n",
      "   - Frequent practice in writing letters or words before primary school generally correlated with better reading performance.\n",
      "   - Example: In Abu Dhabi, UAE, students who \"Often\" wrote letters or words scored 514.4, compared to 465.4 for \"Sometimes.\"\n",
      "\n",
      "3. **Pre-primary Education** 🏫\n",
      "   - Attendance in pre-primary education programs was associated with higher reading achievement scores.\n",
      "   - Example: In Azerbaijan, students who attended pre-primary education scored 478.6, compared to 457.4 for those who did not.\n",
      "\n",
      "## Country-Specific Observations 🌍\n",
      "\n",
      "| Country | Key Observation |\n",
      "|---------|-----------------|\n",
      "| Alberta, Canada | Consistently high reading scores; students read to \"Often\" and attended pre-primary education scored an average of 564.4 |\n",
      "| Austria | Strong performance, especially for students read to \"Often\" (scores ranging from 547.6 to 563.5) |\n",
      "| Azerbaijan | Lower overall scores but maintained the trend of higher scores for students with more early literacy activities |\n",
      "\n",
      "## Implications and Recommendations 💡\n",
      "\n",
      "1. **Parental Involvement**: Encourage parents to engage in frequent reading activities with their children before primary school.\n",
      "2. **Early Writing Programs**: Implement programs that promote early writing skills in preschool and at home.\n",
      "3. **Pre-primary Education**: Expand access to quality pre-primary education programs, as they show a positive impact on later reading achievement.\n",
      "4. **Targeted Interventions**: Design interventions that focus on early literacy activities, especially in countries with lower overall scores.\n",
      "5. **Policy Development**: Use this data to inform educational policies that prioritize early childhood literacy.\n",
      "\n",
      "## Limitations and Future Research 🔬\n",
      "\n",
      "- While the trends are consistent across many countries, the magnitude of the differences varies.\n",
      "- Some countries show smaller gaps or occasional inversions in the trend, which could be due to other socioeconomic or educational factors not captured in this analysis.\n",
      "- Future research should consider additional factors such as socioeconomic status, parental education levels, and specific educational policies in each country.\n",
      "\n",
      "## Conclusion 🎓\n",
      "\n",
      "The PIRLS 2021 data strongly suggests that early literacy activities have a significant positive impact on pupils' future reading achievement. Investing in early childhood literacy through parental involvement, structured programs, and pre-primary education can lead to substantial improvements in reading skills and overall academic performance. \n",
      "\n",
      "By focusing on these early interventions, we can set a strong foundation for lifelong learning and success for our students. 📈🌟\n"
     ]
    }
   ],
   "source": [
    "res = ask_question(\"What's the impact of early literacy to the future of the pupils?\", REMOTE_HOST)\n",
    "print(res['result'])"
   ]
  },
  {
   "cell_type": "code",
   "execution_count": 4,
   "id": "92c7ef6a-1271-46d7-a0a3-37798e3bb106",
   "metadata": {
    "tags": []
   },
   "outputs": [
    {
     "data": {
      "text/plain": [
       "\"#GDSC7\\n\\n# How do instructions in a second language affect the reading performance of 4th graders in education systems participating in PIRLS 2021? 📚🌍\\n\\nWhile the PIRLS 2021 dataset doesn't provide specific information on second language instruction, we can analyze the reading performance scores to draw some insights and consider the potential impact of language instruction policies. Here's a data-driven analysis based on the available information:\\n\\n## 📊 Key Findings\\n\\n1. **Performance Disparity**: There is a significant gap in reading performance between the top and bottom-performing education systems.\\n\\n   - Top performers: \\n     1. Moscow City, Russian Federation (599.01)\\n     2. Singapore (583.01)\\n     3. Ireland (578.49)\\n   \\n   - Bottom performers:\\n     1. South Africa (267.19)\\n     2. Morocco (365.39)\\n     3. Jordan (370.31)\\n\\n2. **Linguistic Diversity**: Many top-performing systems are known for their linguistic diversity or bilingual policies.\\n\\n   - Singapore: Bilingual education policy (English + mother tongue)\\n   - Hong Kong SAR: Bilingual in Chinese and English\\n   - Ireland: Instruction in both English and Irish in many schools\\n\\n3. **Potential Factors**: While we can't directly attribute performance to second language instruction, several factors may contribute to these results:\\n\\n   - 🏫 Quality of education system\\n   - 📚 Reading culture and resources\\n   - 🗣️ Language policies and support for multilingualism\\n   - 🌍 Socioeconomic factors\\n\\n## 💡 Analysis and Implications\\n\\n1. **Bilingual Advantage**: The strong performance of education systems with known bilingual policies (e.g., Singapore, Hong Kong SAR) suggests that well-implemented second language instruction may positively impact reading skills.\\n\\n2. **Contextual Factors**: Lower-performing countries (e.g., South Africa, Morocco) often face additional challenges such as socioeconomic disparities and resource limitations, which may overshadow language instruction effects.\\n\\n3. **Transfer of Skills**: Instruction in a second language may enhance metalinguistic awareness and cognitive flexibility, potentially benefiting overall reading performance.\\n\\n4. **Implementation Matters**: The effectiveness of second language instruction likely depends on factors such as:\\n   - Age of introduction\\n   - Instructional methods\\n   - Teacher qualifications\\n   - Language support outside the classroom\\n\\n5. **Cultural and Linguistic Alignment**: The success of second language instruction may be influenced by how well it aligns with the cultural and linguistic context of the education system.\\n\\n## 🚨 Limitations and Considerations\\n\\n- Lack of specific data on second language instruction in PIRLS 2021\\n- Potential confounding variables (e.g., socioeconomic factors, educational resources)\\n- Variation in implementation of language policies across and within education systems\\n\\n## 🎯 Recommendations\\n\\n1. **Further Research**: Conduct targeted studies on the relationship between second language instruction and reading performance within PIRLS participating countries.\\n\\n2. **Policy Evaluation**: Education systems should evaluate their language instruction policies in light of their PIRLS performance and local context.\\n\\n3. **Best Practices Exchange**: Encourage knowledge sharing between high-performing systems with successful bilingual programs and those looking to improve.\\n\\n4. **Holistic Approach**: Consider second language instruction as part of a comprehensive strategy to improve reading literacy, alongside factors such as teacher training, resource allocation, and culturally relevant curricula.\\n\\nIn conclusion, while we cannot definitively state how second language instruction affects 4th-grade reading performance based solely on PIRLS 2021 data, the strong performance of education systems with known bilingual policies suggests potential benefits. However, the implementation of such policies must be carefully considered within each system's unique context to ensure positive outcomes in reading literacy.\""
      ]
     },
     "execution_count": 4,
     "metadata": {},
     "output_type": "execute_result"
    }
   ],
   "source": [
    "res = ask_question(\"How do instructions in a second language affect the reading performance of 4th graders in education systems participating in PIRLS 2021?\", REMOTE_HOST)\n",
    "res['result']"
   ]
  },
  {
   "cell_type": "code",
   "execution_count": 69,
   "id": "5c307a1b-a9d8-4e95-bd97-30673a5a1691",
   "metadata": {
    "tags": []
   },
   "outputs": [
    {
     "data": {
      "text/plain": [
       "\"# Top Performing Countries in PIRLS 2021 and Their Educational System Factors 📚🌍\\n\\nThe Progress in International Reading Literacy Study (PIRLS) 2021 results reveal interesting insights about the countries that excel in fourth-grade reading skills. Let's explore the top performers and the common factors in their educational systems.\\n\\n## Top Performers 🏆\\n\\nHere are the top 8 countries/regions by average reading achievement score:\\n\\n| Rank | Country/Region | Average Reading Score |\\n|------|----------------|------------------------|\\n| 1 | Moscow City, Russian Federation | 599.01 |\\n| 2 | Singapore | 583.01 |\\n| 3 | Hong Kong SAR | 574.54 |\\n| 4 | Russian Federation | 571.96 |\\n| 5 | Northern Ireland | 567.03 |\\n| 6 | Croatia | 559.34 |\\n| 7 | United Kingdom | 556.96 |\\n| 8 | Quebec, Canada | 553.74 |\\n\\n## Common Factors in Educational Systems 🔍\\n\\nAnalyzing the data from these top-performing countries/regions, we can identify several common factors and interesting trends:\\n\\n1. **Diverse Approaches to Reading Instruction Time** ⏰\\n   - There's significant variation in the time dedicated to reading instruction among top performers.\\n   - Moscow City leads with 642.27 minutes per week (about 10.7 hours), while Singapore allocates only 291.43 minutes (about 4.9 hours).\\n   - This suggests that quality of instruction may be more crucial than quantity.\\n\\n2. **Technology Integration** 💻\\n   - Most top performers have a substantial number of computers per school, indicating a focus on technology integration in education.\\n   - Singapore (303.59 computers/school) and Hong Kong SAR (333.18 computers/school) stand out in this aspect.\\n   - However, high performance is not solely dependent on technology access, as evidenced by Croatia's success despite having fewer computers (42.37 per school).\\n\\n3. **Balanced Approach** ⚖️\\n   - Top performers seem to strike a balance between traditional teaching methods and modern technological integration.\\n   - For instance, the Russian Federation and Quebec, Canada, maintain relatively high reading instruction times (567.16 and 590.24 minutes/week respectively) while also having a moderate number of computers per school.\\n\\n4. **Regional Excellence** 🌆\\n   - Interestingly, some regions within countries (Moscow City, Quebec) outperform their national averages, suggesting the effectiveness of localized educational strategies.\\n\\n5. **Cultural Factors** 🌍\\n   - The presence of Asian education systems (Singapore, Hong Kong SAR) among top performers hints at the potential influence of cultural attitudes towards education and literacy.\\n\\n6. **Varied Resource Allocation** 📊\\n   - There's no one-size-fits-all approach to resource allocation among top performers. Some excel with fewer resources (e.g., Croatia), while others invest heavily in technology (e.g., Singapore, Hong Kong SAR).\\n\\n## Limitations and Considerations 🤔\\n\\nWhile these factors provide valuable insights, it's crucial to note that:\\n- The data doesn't capture all aspects of educational systems (e.g., teaching methods, curriculum design, teacher training).\\n- Socioeconomic factors, which can significantly impact educational outcomes, are not reflected in this dataset.\\n- Cultural attitudes towards education and literacy, which vary across countries, are not quantified in the PIRLS data.\\n\\n## Conclusion 🎓\\n\\nThe PIRLS 2021 results demonstrate that excellence in reading literacy can be achieved through various approaches. Top-performing countries share a commitment to education but implement this commitment in diverse ways. They balance traditional teaching methods with technological integration, adapt strategies to local contexts, and prioritize reading instruction, albeit to varying degrees.\\n\\nTo improve global literacy rates, education systems worldwide could consider:\\n1. Optimizing reading instruction time for quality rather than just quantity.\\n2. Integrating technology thoughtfully, not just increasing computer numbers.\\n3. Adapting successful strategies to local cultural and educational contexts.\\n4. Focusing on regional excellence within national education systems.\\n5. Investigating an\""
      ]
     },
     "execution_count": 69,
     "metadata": {},
     "output_type": "execute_result"
    }
   ],
   "source": [
    "res = ask_question(questions[2], REMOTE_HOST)\n",
    "res['result']"
   ]
  },
  {
   "cell_type": "code",
   "execution_count": 59,
   "id": "6295db1c-540a-472b-813d-8c102cfea4da",
   "metadata": {
    "tags": []
   },
   "outputs": [
    {
     "data": {
      "text/plain": [
       "'# Insights from PIRLS 2021: Factors Influencing Reading Achievement 📚🔍\\n\\nBased on the analysis of student and teacher questionnaire responses from the PIRLS 2021 dataset, several key insights can be drawn regarding factors influencing reading achievement among fourth-grade students. Let\\'s explore these findings in detail:\\n\\n## 1. Gender Differences in Reading Achievement 👧👦\\n\\nOur analysis reveals a notable gender gap in reading performance:\\n\\n| Gender | Average Reading Score |\\n|--------|------------------------|\\n| Female | 504.62                 |\\n| Male   | 485.40                 |\\n| Other  | 525.09                 |\\n\\n🔑 Key Insight: Girls outperform boys in reading by an average of 19.22 points. This gender gap is consistent with previous PIRLS cycles and other international assessments, suggesting that targeted interventions to support boys\\' reading development may be necessary.\\n\\n## 2. Impact of Home Library Size 📚🏠\\n\\nThe number of books at home shows a strong positive correlation with reading achievement:\\n\\n| Number of Books at Home                            | Average Reading Score |\\n|---------------------------------------------------|------------------------|\\n| Enough to fill two bookcases (101–200 books)      | 538.09                 |\\n| Enough to fill three or more bookcases (200+)     | 530.19                 |\\n| Enough to fill one bookcase (26–100 books)        | 527.31                 |\\n| Enough to fill one shelf (11–25 books)            | 486.52                 |\\n| None or very few (0–10 books)                     | 431.21                 |\\n\\n🔑 Key Insight: Students with more books at home tend to have significantly higher reading scores. The difference between having 0-10 books and 101-200 books is a striking 106.88 points. This underscores the importance of access to reading materials and a print-rich home environment in fostering reading achievement.\\n\\n## 3. Frequency of Independent Reading in School 📖🏫\\n\\nThe relationship between reading frequency and achievement reveals an interesting pattern:\\n\\n| Reading Frequency in School          | Average Reading Score |\\n|--------------------------------------|------------------------|\\n| Once or twice a week                 | 507.64                 |\\n| Every day or almost every day        | 500.79                 |\\n| Once or twice a month                | 495.92                 |\\n| Never or almost never                | 464.55                 |\\n\\n🔑 Key Insight: Surprisingly, students who read independently in school \"Once or twice a week\" show the highest average reading score, slightly outperforming those who read daily. This suggests that the quality and nature of reading experiences may be as crucial as frequency. It also highlights the potential importance of balanced instructional approaches that include both independent reading and guided reading activities.\\n\\n## 4. Teacher Factors Influencing Reading Achievement 👩\\u200d🏫👨\\u200d🏫\\n\\nWhile specific teacher-related statistics were not provided in the summary, the PIRLS dataset typically includes information on teacher qualifications, experience, and instructional practices. Based on previous PIRLS cycles and related research, we can infer that:\\n\\n- Teacher qualifications and experience often positively correlate with student reading achievement.\\n- Instructional practices that include a balance of phonics instruction, comprehension strategies, and exposure to diverse texts tend to be associated with higher reading scores.\\n- Professional development opportunities for teachers in reading instruction can lead to improved student outcomes.\\n\\n## 5. Socioeconomic Factors 💼🏘️\\n\\nThe strong correlation between the number of books at home and reading achievement serves as a proxy for socioeconomic status. This relationship suggests that:\\n\\n- Socioeconomic factors play a significant role in reading achievement.\\n- Students from disadvantaged backgrounds may face additional challenges in developing strong reading skills.\\n- Targeted interventions and resource allocation may be necessary to address these disparities.\\n\\n## Recommendations 🎯\\n\\nBased on these insights, the following recommendations can be made to improve reading achievement:\\n\\n1. Implement targeted reading programs to support boys\\' literacy development and close the gender gap.\\n2. Promote initiatives to increase access to books and reading materials,'"
      ]
     },
     "execution_count": 59,
     "metadata": {},
     "output_type": "execute_result"
    }
   ],
   "source": [
    "res = ask_question(questions[3], REMOTE_HOST)\n",
    "res['result']"
   ]
  },
  {
   "cell_type": "code",
   "execution_count": 68,
   "id": "50ca0bf4-9e06-4dbd-beea-dbf06a4fc63c",
   "metadata": {
    "tags": []
   },
   "outputs": [
    {
     "data": {
      "text/plain": [
       "\"# Singapore's Reading Skills in PIRLS 2021: A Comprehensive Analysis 📚🇸🇬\\n\\nWhile we don't have direct access to historical PIRLS data for Singapore, we can provide a detailed analysis of the country's performance in the 2021 assessment. This analysis will give us valuable insights into the current state of reading skills among Singaporean fourth-grade students.\\n\\n## Overall Performance 🏆\\n\\nSingapore demonstrated exceptional reading skills in PIRLS 2021, with an impressive average score of 583.02. This score is significantly above the PIRLS scale centerpoint of 500, indicating that Singaporean students are performing at a high level in reading literacy.\\n\\n## Reading Purposes and Processes 📊\\n\\n| Reading Aspect | Average Score |\\n|----------------|---------------|\\n| Literary Experience | 587.39 |\\n| Acquiring and Using Information | 582.33 |\\n| Interpreting and Evaluating | 586.57 |\\n| Retrieving and Straightforward Inferencing | 579.90 |\\n\\nSingaporean students showed strength across all reading purposes and processes, with particularly high scores in literary experience and interpreting and evaluating. This suggests a well-rounded approach to reading education that emphasizes both creative and analytical skills.\\n\\n## Gender Differences 👫\\n\\nA notable gender gap exists in reading achievement, with girls outperforming boys across all areas:\\n\\n| Reading Aspect | Girls | Boys | Difference |\\n|----------------|-------|------|------------|\\n| Overall Reading | 591.87 | 574.54 | 17.33 |\\n| Literary Experience | 599.66 | 575.62 | 24.04 |\\n| Acquiring and Using Information | 589.77 | 575.20 | 14.57 |\\n| Interpreting and Evaluating | 594.40 | 579.05 | 15.35 |\\n| Retrieving and Straightforward Inferencing | 589.10 | 571.07 | 18.03 |\\n\\nThe gender gap is most pronounced in literary experience, suggesting that interventions to improve boys' engagement with literature might be beneficial.\\n\\n## Socioeconomic Factors 📚🏠\\n\\nThe number of books at home, often used as a proxy for socioeconomic status, shows a clear positive correlation with reading achievement:\\n\\n| Number of Books | Students | Average Reading Score |\\n|-----------------|----------|------------------------|\\n| 0-10 | 833 | 519.32 |\\n| 11-25 | 1,497 | 563.91 |\\n| 26-100 | 2,303 | 596.47 |\\n| 101-200 | 1,124 | 611.50 |\\n| More than 200 | 919 | 604.18 |\\n\\nThis data highlights the importance of access to reading materials and potentially other educational resources in supporting reading achievement.\\n\\n## Key Observations and Implications 🔍\\n\\n1. **High Overall Performance**: Singapore's strong performance across all areas of reading suggests effective reading instruction and a supportive educational environment.\\n\\n2. **Balanced Skills**: The relatively even scores across different reading purposes and processes indicate a well-rounded approach to reading education.\\n\\n3. **Gender Gap**: The consistent outperformance of girls in all areas of reading literacy points to a need for targeted interventions to support boys' reading development.\\n\\n4. **Socioeconomic Influence**: The strong correlation between books at home and reading scores underscores the importance of addressing socioeconomic disparities in educational outcomes.\\n\\n5. **Digital Assessment**: Singapore participated in the digital version of PIRLS in 2021, which may have implications for comparing results with previous years or with countries that took paper-based tests.\\n\\n## Recommendations 💡\\n\\n1. Investigate and address the factors contributing to the gender gap in reading achievement.\\n2. Develop strategies to support students from lower socioeconomic backgrounds, such as increasing access to books and reading materials.\\n3. Continue to emphasize a balanced approach to reading instruction, maintaining strengths in both literary and informational texts.\\n4. Consider the impact of digital literacy\""
      ]
     },
     "execution_count": 68,
     "metadata": {},
     "output_type": "execute_result"
    }
   ],
   "source": [
    "res = ask_question(questions[4], REMOTE_HOST)\n",
    "res['result']"
   ]
  },
  {
   "cell_type": "code",
   "execution_count": null,
   "id": "284ecb9a-9319-405d-9dca-b94660d68d17",
   "metadata": {
    "tags": []
   },
   "outputs": [],
   "source": [
    "res = ask_question(questions[5], REMOTE_HOST)\n",
    "res['result']"
   ]
  },
  {
   "cell_type": "code",
   "execution_count": 67,
   "id": "a2ddd456-5977-41f9-ae47-c5298bcfd1fa",
   "metadata": {
    "tags": []
   },
   "outputs": [
    {
     "data": {
      "text/plain": [
       "\"# Correlation between Countries' GDP and Reading Skills in PIRLS 2021 📚💰\\n\\nBased on the analysis of the PIRLS 2021 study data, we can provide insights into the relationship between countries' GDP and their fourth-grade students' reading skills. While we don't have direct access to GDP data, we can make some general observations and discuss the implications of the results.\\n\\n## Key Findings 🔍\\n\\n1. **Top Performers**: The countries with the highest reading achievement scores in PIRLS 2021 include:\\n\\n   1. Singapore (583.0061)\\n   2. Ireland (578.4871)\\n   3. Russian Federation (571.9641)\\n   4. Croatia (559.3354)\\n   5. United Kingdom (556.9566)\\n\\n   These countries are generally known to have relatively high GDP per capita, suggesting a possible positive correlation between economic strength and reading performance.\\n\\n2. **Lower Performers**: Countries with lower scores include:\\n\\n   49. Egypt (377.0759)\\n   50. Jordan (370.3101)\\n   51. Morocco (365.3946)\\n   52. South Africa (328.6856)\\n\\n   These countries typically have lower GDP per capita, further supporting the potential correlation.\\n\\n3. **Middle-Range Performers**: Many European and North American countries fall in the middle to upper range of scores, which aligns with their generally higher economic status.\\n\\n## Analysis and Implications 📊\\n\\nWhile we cannot provide a precise correlation coefficient or scatter plot without the exact GDP figures, we can infer some relationships based on general economic knowledge and the PIRLS 2021 results:\\n\\n1. **Positive Correlation**: There appears to be a positive correlation between a country's economic status (as represented by GDP) and its students' reading skills. Countries known for higher GDPs tend to score better in the PIRLS assessment.\\n\\n2. **Exceptions and Outliers**: Some countries may perform better or worse than their GDP might suggest. For example, Croatia's high performance (4th place) might indicate effective educational policies despite a potentially lower GDP compared to some other top performers.\\n\\n3. **Resource Allocation**: Higher GDP countries likely have more resources to invest in education, including better school facilities, teacher training, and educational materials, which can contribute to improved reading skills.\\n\\n4. **Socioeconomic Factors**: GDP can influence various socioeconomic factors that affect educational outcomes, such as access to books, parental education levels, and overall literacy environments.\\n\\n5. **Cultural and Policy Differences**: While GDP is important, cultural attitudes towards education and specific educational policies can also significantly impact reading skills, which may explain some variations in performance among countries with similar economic levels.\\n\\n## Limitations and Considerations ⚠️\\n\\n- The analysis is based on general assumptions about GDP levels, not exact figures.\\n- PIRLS data includes some regions and cities, which may not be directly comparable to national-level GDP data.\\n- Other factors beyond GDP, such as educational policies, cultural values, and demographic characteristics, also play crucial roles in determining reading skills.\\n\\n## Conclusion 🎓\\n\\nWhile we cannot provide an exact plot of the correlation between GDP and reading skills due to data limitations, the PIRLS 2021 results suggest a positive relationship between a country's economic strength and its students' reading performance. However, this relationship is not absolute, and other factors play significant roles in educational outcomes.\\n\\nTo further investigate this correlation, it would be beneficial to:\\n1. Obtain precise GDP per capita data for the countries in the PIRLS 2021 study.\\n2. Conduct a detailed statistical analysis, including calculating the Pearson correlation coefficient.\\n3. Create a scatter plot to visually represent the relationship between GDP and reading scores.\\n4. Investigate outliers and consider case studies of countries that perform notably better or worse than their GDP might suggest.\\n\\nThese steps would provide a more comprehensive understanding of the relationship between economic factors and reading skills, potentially informing educational policies and resource allocation strategies worldwide.\\n\\n🤖 Generated by AI Assistant\""
      ]
     },
     "execution_count": 67,
     "metadata": {},
     "output_type": "execute_result"
    }
   ],
   "source": [
    "res = ask_question(\"Visualise the student to teacher ratio country wise and limit it to top 8\", REMOTE_HOST)\n",
    "res['result']"
   ]
  },
  {
   "cell_type": "code",
   "execution_count": null,
   "id": "ad48d0d0-fec6-47e9-819e-31e06fc50e53",
   "metadata": {},
   "outputs": [],
   "source": []
  }
 ],
 "metadata": {
  "kernelspec": {
   "display_name": "conda_python3",
   "language": "python",
   "name": "conda_python3"
  },
  "language_info": {
   "codemirror_mode": {
    "name": "ipython",
    "version": 3
   },
   "file_extension": ".py",
   "mimetype": "text/x-python",
   "name": "python",
   "nbconvert_exporter": "python",
   "pygments_lexer": "ipython3",
   "version": "3.10.15"
  }
 },
 "nbformat": 4,
 "nbformat_minor": 5
}
